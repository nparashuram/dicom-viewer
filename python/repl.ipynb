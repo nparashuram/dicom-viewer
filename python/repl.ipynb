{
 "cells": [
  {
   "cell_type": "code",
   "execution_count": 1,
   "metadata": {},
   "outputs": [],
   "source": [
    "# Read Images \n",
    "\n",
    "from SimpleITK import ImageSeriesReader\n",
    "import sys\n",
    "\n",
    "input_data_directory = \"./../sample-dicom/input\"\n",
    "\n",
    "series_IDs = ImageSeriesReader.GetGDCMSeriesIDs(input_data_directory)\n",
    "if not series_IDs:\n",
    "    print(\n",
    "        'ERROR: given directory \"'\n",
    "        + input_data_directory\n",
    "        + '\" does not contain a DICOM series.'\n",
    "    )\n",
    "    sys.exit(1)\n",
    "\n",
    "series_file_names = ImageSeriesReader.GetGDCMSeriesFileNames(\n",
    "    input_data_directory, series_IDs[0]\n",
    ")\n",
    "\n",
    "series_reader = ImageSeriesReader()\n",
    "series_reader.SetFileNames(series_file_names)\n",
    "series_reader.MetaDataDictionaryArrayUpdateOn()\n",
    "series_reader.LoadPrivateTagsOn()\n",
    "image = series_reader.Execute()"
   ]
  },
  {
   "cell_type": "code",
   "execution_count": 2,
   "metadata": {},
   "outputs": [
    {
     "name": "stdout",
     "output_type": "stream",
     "text": [
      "axial_image 561 561 401\n",
      "sagittal_image 401 561 561\n",
      "coronal_image 561 401 561\n"
     ]
    }
   ],
   "source": [
    "# Reorient the image to obtain the sagittal view\n",
    "\n",
    "from SimpleITK import PermuteAxes, Flip\n",
    "\n",
    "sagittal_image = PermuteAxes(image, [2, 0, 1])\n",
    "sagittal_image = Flip(sagittal_image, [False, False, True])\n",
    "\n",
    "coronal_image = PermuteAxes(image, [0, 2, 1])\n",
    "coronal_image = Flip(coronal_image, [False, False, True])\n",
    "\n",
    "axial_image = image\n",
    "\n",
    "\n",
    "print(\"axial_image\", axial_image.GetWidth(), axial_image.GetHeight(),  axial_image.GetDepth())\n",
    "print(\"sagittal_image\", sagittal_image.GetWidth(), sagittal_image.GetHeight(),  sagittal_image.GetDepth())\n",
    "print(\"coronal_image\", coronal_image.GetWidth(), coronal_image.GetHeight(),  coronal_image.GetDepth())\n"
   ]
  },
  {
   "cell_type": "code",
   "execution_count": 3,
   "metadata": {},
   "outputs": [
    {
     "name": "stdout",
     "output_type": "stream",
     "text": [
      "sagittal 401 561 561\n"
     ]
    },
    {
     "data": {
      "application/vnd.jupyter.widget-view+json": {
       "model_id": "5e01cc0d27ba427ba0cc534771154cc9",
       "version_major": 2,
       "version_minor": 0
      },
      "text/plain": [
       "IntProgress(value=0, max=401)"
      ]
     },
     "metadata": {},
     "output_type": "display_data"
    },
    {
     "ename": "KeyboardInterrupt",
     "evalue": "",
     "output_type": "error",
     "traceback": [
      "\u001b[31m---------------------------------------------------------------------------\u001b[39m",
      "\u001b[31mKeyboardInterrupt\u001b[39m                         Traceback (most recent call last)",
      "\u001b[32m/var/folders/pj/m3tvx50x7sn0wgjsp032v7fh0000gn/T/ipykernel_72496/3186694640.py\u001b[39m in \u001b[36m?\u001b[39m\u001b[34m()\u001b[39m\n\u001b[32m     20\u001b[39m \u001b[38;5;28;01mfor\u001b[39;00m i \u001b[38;5;28;01min\u001b[39;00m range(\u001b[32m0\u001b[39m, input_image.GetDepth()):\n\u001b[32m     21\u001b[39m     progress.value = i\n\u001b[32m     22\u001b[39m     slice = input_image[:, :, i]\n\u001b[32m     23\u001b[39m     \u001b[38;5;28;01mif\u001b[39;00m useAdaptiveHistogram:\n\u001b[32m---> \u001b[39m\u001b[32m24\u001b[39m         slice = AdaptiveHistogramEqualization(slice, slice.GetSize())\n\u001b[32m     25\u001b[39m     result_slices.append(slice)\n\u001b[32m     26\u001b[39m \n\u001b[32m     27\u001b[39m print(\u001b[33m\"Width:\"\u001b[39m, input_image.GetWidth() , \u001b[33m\", Height:\"\u001b[39m, input_image.GetHeight() , \u001b[33m\", Depth: \"\u001b[39m , input_image.GetDepth())\n",
      "\u001b[32m~/_workspace/dicom-viewer/py/lib/python3.11/site-packages/SimpleITK/SimpleITK.py\u001b[39m in \u001b[36m?\u001b[39m\u001b[34m(*args, **kwargs)\u001b[39m\n\u001b[32m  11525\u001b[39m \u001b[38;5;28;01mdef\u001b[39;00m AdaptiveHistogramEqualization(*args, **kwargs):\n\u001b[32m  11526\u001b[39m     \u001b[33mr\"\"\"AdaptiveHistogramEqualization(Image image1, VectorUInt32 radius=std::vector< unsigned int >(3, 5), float alpha=0.3, float beta=0.3) -> Image\"\"\"\u001b[39m\n\u001b[32m> \u001b[39m\u001b[32m11527\u001b[39m     \u001b[38;5;28;01mreturn\u001b[39;00m _SimpleITK.AdaptiveHistogramEqualization(*args, **kwargs)\n",
      "\u001b[31mKeyboardInterrupt\u001b[39m: "
     ]
    }
   ],
   "source": [
    "# Process image to add adaptive histogram, to make it look better\n",
    "\n",
    "useAdaptiveHistogram = True\n",
    "\n",
    "from SimpleITK import AdaptiveHistogramEqualization, GetArrayViewFromImage\n",
    "from ipywidgets import IntProgress\n",
    "from IPython.display import display\n",
    "\n",
    "import matplotlib.pyplot as plt\n",
    "\n",
    "\n",
    "input_image = sagittal_image\n",
    "\n",
    "print(\"sagittal\", input_image.GetWidth(), input_image.GetHeight(),  input_image.GetDepth())\n",
    "\n",
    "result_slices = []\n",
    "progress = IntProgress(min=0, max=image.GetDepth())\n",
    "display(progress)\n",
    "\n",
    "for i in range(0, input_image.GetDepth()):\n",
    "    progress.value = i\n",
    "    slice = input_image[:, :, i]\n",
    "    if useAdaptiveHistogram:\n",
    "        slice = AdaptiveHistogramEqualization(slice, slice.GetSize())\n",
    "    result_slices.append(slice)\n",
    "\n",
    "print(\"Width:\", input_image.GetWidth() , \", Height:\", input_image.GetHeight() , \", Depth: \" , input_image.GetDepth())\n",
    "print(\"Slices Count:\", len(result_slices), \", Slide Width:\", result_slices[0].GetWidth(), \", Slide Height:\",result_slices[0].GetHeight())\n",
    "\n",
    "plt.figure(figsize=(10, 10))\n",
    "plt.imshow(GetArrayViewFromImage(result_slices[len(result_slices)//2]), cmap=\"gray\")\n",
    "plt.plot()\n"
   ]
  },
  {
   "cell_type": "code",
   "execution_count": null,
   "metadata": {},
   "outputs": [
    {
     "name": "stdout",
     "output_type": "stream",
     "text": [
      "{'Slide Width': 401, 'Slide Height': 561}\n"
     ]
    },
    {
     "data": {
      "application/vnd.jupyter.widget-view+json": {
       "model_id": "2f7b1ef1349c42a8a45f976aea0f8ec7",
       "version_major": 2,
       "version_minor": 0
      },
      "text/plain": [
       "interactive(children=(IntSlider(value=280, description='slice_num', max=560), Output()), _dom_classes=('widget…"
      ]
     },
     "metadata": {},
     "output_type": "display_data"
    },
    {
     "data": {
      "text/plain": [
       "<function __main__.plot(slice_num)>"
      ]
     },
     "execution_count": 11,
     "metadata": {},
     "output_type": "execute_result"
    }
   ],
   "source": [
    "# View changed images \n",
    "\n",
    "from ipywidgets import interact, widgets\n",
    "import matplotlib.pyplot as plt\n",
    "from SimpleITK import GetArrayViewFromImage\n",
    "\n",
    "slices = result_slices\n",
    "\n",
    "def plot(slice_num): \n",
    "    slice = slices[slice_num]\n",
    "    output_slice_array = GetArrayViewFromImage(slice)\n",
    "    plt.figure(figsize=(10, 10))\n",
    "    plt.imshow(output_slice_array, cmap=\"gray\")\n",
    "    plt.plot()\n",
    "\n",
    "\n",
    "slider = widgets.IntSlider(\n",
    "    value=input_image.GetSize()[2]//2,\n",
    "    min=0,\n",
    "    max=input_image.GetSize()[2]-1,\n",
    "    step=1,\n",
    "    continuous_update=True,\n",
    "    orientation='horizontal',\n",
    "    readout=True,\n",
    "    readout_format='d'\n",
    ")\n",
    "\n",
    "print({\"Slide Width\": slices[0].GetWidth(), \"Slide Height\": slices[0].GetHeight()})\n",
    "interact(plot, slice_num=slider)\n"
   ]
  },
  {
   "cell_type": "code",
   "execution_count": null,
   "metadata": {},
   "outputs": [],
   "source": [
    "# Write Slices to file\n",
    "\n",
    "from SimpleITK import ImageSeriesWriter, Cast, RescaleIntensity, sitkUInt8, WriteImage\n",
    "import os\n",
    "from ipywidgets import IntProgress\n",
    "\n",
    "\n",
    "type = \"sagittal\"\n",
    "output_folder = \"./../sample-dicom/output/\" + type\n",
    "\n",
    "if not os.path.exists(output_folder):\n",
    "    os.makedirs(output_folder)\n",
    "\n",
    "writer = ImageSeriesWriter()\n",
    "slices = result_slices\n",
    "\n",
    "progress = IntProgress(min=0, max=len(slices))\n",
    "display(progress)\n",
    "\n",
    "# Iterate over each slice and save as PNG\n",
    "for i in range(len(slices)):\n",
    "    # Extract the slice\n",
    "    progress.value = i\n",
    "    slice_image = slices[i]\n",
    "\n",
    "    # Convert the slice to a format suitable for PNG\n",
    "    slice_image = RescaleIntensity(slice_image, 0, 255)  # Rescale to 0-255\n",
    "    slice_image = Cast(slice_image, sitkUInt8)\n",
    "\n",
    "    # Define the filename for the PNG\n",
    "    png_filename = os.path.join(output_folder, f'slice_{i:03d}.png')\n",
    "\n",
    "    # Write the PNG image\n",
    "    WriteImage(slice_image, png_filename)\n",
    "\n"
   ]
  },
  {
   "cell_type": "code",
   "execution_count": null,
   "metadata": {},
   "outputs": [
    {
     "name": "stdout",
     "output_type": "stream",
     "text": [
      "GLTF model saved as output_model.gltf\n"
     ]
    }
   ],
   "source": [
    "# Create 3D GLTF\n",
    "import numpy as np\n",
    "import trimesh\n",
    "import open3d as o3d\n",
    "\n",
    "from SimpleITK import GetArrayFromImage\n",
    "from skimage import measure\n",
    "\n",
    "\n",
    "# Step 2: Convert the SimpleITK image to a NumPy array\n",
    "array = GetArrayFromImage(image)\n",
    "\n",
    "# Step 3: Apply a threshold to segment the volume\n",
    "# Adjust the lower/upper threshold based on the structure of interest\n",
    "lower_threshold = 500  # Soft tissue threshold for CT\n",
    "upper_threshold = 1000  # Bone density\n",
    "binary_mask = np.logical_and(array > lower_threshold, array < upper_threshold)\n",
    "\n",
    "\n",
    "# Step 4: Extract a 3D mesh using the Marching Cubes algorithm\n",
    "verts, faces, _, _ = measure.marching_cubes(binary_mask, level=0.5)\n",
    "\n",
    "# Step 5: Create a mesh object using trimesh\n",
    "mesh = trimesh.Trimesh(vertices=verts, faces=faces)\n",
    "\n",
    "# Apply Laplacian Smoothing to reduce noise\n",
    "mesh = mesh.filter_smooth_laplacian(number_of_iterations=10)\n",
    "# Optionally, apply Taubin smoothing (reduces volume shrinkage)\n",
    "mesh = mesh.filter_smooth_taubin(number_of_iterations=10)\n",
    "\n",
    "# Save the denoised model\n",
    "o3d.io.write_triangle_mesh(\"output_model_denoised.gltf\", mesh)\n",
    "\n",
    "print(\"GLTF model saved as output_model.gltf\")\n"
   ]
  },
  {
   "cell_type": "markdown",
   "metadata": {},
   "source": [
    "# Notes"
   ]
  },
  {
   "cell_type": "code",
   "execution_count": null,
   "metadata": {},
   "outputs": [],
   "source": [
    "def get_series_tags(direction):\n",
    "    \n",
    "    # Write the 3D image as a series\n",
    "    # IMPORTANT: There are many DICOM tags that need to be updated when you modify\n",
    "    #            an original image. This is a delicate operation and requires\n",
    "    #            knowledge of the DICOM standard. This example only modifies some.\n",
    "    #            For a more complete list of tags that need to be modified see:\n",
    "    #                http://gdcm.sourceforge.net/wiki/index.php/Writing_DICOM\n",
    "\n",
    "    # Copy relevant tags from the original meta-data dictionary (private tags are\n",
    "    # also accessible).\n",
    "    tags_to_copy = [\n",
    "        \"0010|0010\",  # Patient Name\n",
    "        \"0010|0020\",  # Patient ID\n",
    "        \"0010|0030\",  # Patient Birth Date\n",
    "        \"0020|000d\",  # Study Instance UID, for machine consumption\n",
    "        \"0020|0010\",  # Study ID, for human consumption\n",
    "        \"0008|0020\",  # Study Date\n",
    "        \"0008|0030\",  # Study Time\n",
    "        \"0008|0050\",  # Accession Number\n",
    "        \"0008|0060\",  # Modality\n",
    "    ]\n",
    "\n",
    "    modification_time = time.strftime(\"%H%M%S\")\n",
    "    modification_date = time.strftime(\"%Y%m%d\")\n",
    "\n",
    "    # Copy some of the tags and add the relevant tags indicating the change.\n",
    "    # For the series instance UID (0020|000e), each of the components is a number,\n",
    "    # cannot start with zero, and separated by a '.' We create a unique series ID\n",
    "    # using the date and time.\n",
    "    # NOTE: Always represent DICOM tags using lower case hexadecimals.\n",
    "    #       DICOM tags represent hexadecimal numbers, so 0020|000D and 0020|000d\n",
    "    #       are equivalent. The ITK/SimpleITK dictionary is string based, so these\n",
    "    #       are two different keys, case sensitive. When read from a DICOM file the\n",
    "    #       hexadecimal string representations are in lower case. To ensure consistency,\n",
    "    #       always use lower case for the tags.\n",
    "    # Tags of interest:\n",
    "    series_tag_values = [\n",
    "        (k, series_reader.GetMetaData(0, k))\n",
    "        for k in tags_to_copy\n",
    "        if series_reader.HasMetaDataKey(0, k)\n",
    "    ] + [\n",
    "        (\"0008|0031\", modification_time),  # Series Time\n",
    "        (\"0008|0021\", modification_date),  # Series Date\n",
    "        (\"0008|0008\", \"DERIVED\\\\SECONDARY\"),  # Image Type\n",
    "        (\n",
    "            \"0020|000e\",\n",
    "            \"1.2.826.0.1.3680043.2.1125.\" + modification_date + \".1\" + modification_time,\n",
    "        ),\n",
    "        # Series Instance UID\n",
    "        (\n",
    "            \"0020|0037\",\n",
    "            \"\\\\\".join(\n",
    "                map(\n",
    "                    str,\n",
    "                    (\n",
    "                        direction[0],\n",
    "                        direction[3],\n",
    "                        direction[6],\n",
    "                        direction[1],\n",
    "                        direction[4],\n",
    "                        direction[7],\n",
    "                    ),  # Image Orientation (Patient)\n",
    "                )\n",
    "            ),\n",
    "        ),\n",
    "        (\n",
    "            \"0008|103e\",\n",
    "            (\n",
    "                series_reader.GetMetaData(0, \"0008|103e\")\n",
    "                if series_reader.HasMetaDataKey(0, \"0008|103e\")\n",
    "                else \"\" + \" Processed-SimpleITK\"\n",
    "            ),\n",
    "        ),  # Series Description is an optional tag, so may not exist\n",
    "    ]\n",
    "\n",
    "    return series_tag_values\n",
    "\n",
    "\n",
    "get_series_tags(sagittal_image.GetDirection())\n"
   ]
  },
  {
   "cell_type": "code",
   "execution_count": null,
   "metadata": {},
   "outputs": [],
   "source": [
    "output_data_directory = \"./../sample-dicom/output\"\n",
    "\n",
    "def writeSlices()\n",
    "    writer = sitk.ImageFileWriter()\n",
    "    # Use the study/series/frame of reference information given in the meta-data\n",
    "    # dictionary and not the automatically generated information from the file IO\n",
    "    writer.KeepOriginalImageUIDOn()\n",
    "\n",
    "    \n",
    "\n",
    "    for i in range(imageToWrite.GetDepth()):\n",
    "        image_slice = filtered_image[:, :, i]\n",
    "        # Tags shared by the series.\n",
    "        for tag, value in series_tag_values:\n",
    "            image_slice.SetMetaData(tag, value)\n",
    "        # Slice specific tags.\n",
    "        #   Instance Creation Date\n",
    "        image_slice.SetMetaData(\"0008|0012\", time.strftime(\"%Y%m%d\"))\n",
    "        #   Instance Creation Time\n",
    "        image_slice.SetMetaData(\"0008|0013\", time.strftime(\"%H%M%S\"))\n",
    "        #   Image Position (Patient)\n",
    "        image_slice.SetMetaData(\n",
    "            \"0020|0032\",\n",
    "            \"\\\\\".join(map(str, filtered_image.TransformIndexToPhysicalPoint((0, i, 0)))),\n",
    "        )\n",
    "        #   Instance Number\n",
    "        image_slice.SetMetaData(\"0020|0013\", str(i))\n",
    "\n",
    "        # Write to the output directory and add the extension dcm, to force writing\n",
    "        # in DICOM format.\n",
    "        writer.SetFileName(os.path.join(output_data_directory, str(i) + \".dcm\"))\n",
    "        writer.Execute(image_slice)"
   ]
  },
  {
   "cell_type": "code",
   "execution_count": null,
   "metadata": {},
   "outputs": [],
   "source": [
    "from SimpleITK import AdaptiveHistogramEqualization, GetArrayViewFromImage\n",
    "import matplotlib.pyplot as plt\n",
    "\n",
    "def show(slice, name):\n",
    "     slice = AdaptiveHistogramEqualization(slice, slice.GetSize())\n",
    "     output_slice_array = GetArrayViewFromImage(slice)\n",
    "     plt.figure(figsize=(8, 8))\n",
    "     plt.imshow(output_slice_array, cmap=\"gray\")\n",
    "     plt.title(name)\n",
    "     plt.axis(\"off\")\n",
    "     plt.show()"
   ]
  },
  {
   "cell_type": "code",
   "execution_count": null,
   "metadata": {},
   "outputs": [],
   "source": [
    "# Set Image Viewer to see Dicom files\n",
    "image_viewer = sitk.ImageViewer()\n",
    "image_viewer.SetTitle('grid using ImageViewer class')\n",
    "image_viewer.SetApplication('/Applications/ITK-SNAP.app/Contents/MacOS/ITK-SNAP')"
   ]
  },
  {
   "cell_type": "code",
   "execution_count": null,
   "metadata": {},
   "outputs": [],
   "source": [
    "output = sitk.Flip(image3D, [False, True, False])\n",
    "\n",
    "print(output.GetDirection())\n",
    "print(output.GetSize())\n",
    "print(output.GetOrigin())\n",
    "print(output.GetSpacing())\n",
    "plt.imshow(output[:, :, 100])"
   ]
  },
  {
   "cell_type": "code",
   "execution_count": null,
   "metadata": {},
   "outputs": [],
   "source": [
    "# This is incorrect\n",
    "\n",
    "# Resample to perform MPR (e.g., to get a sagittal plane)\n",
    "\n",
    "image = image3D\n",
    "resampler = sitk.ResampleImageFilter()\n",
    "resampler.SetOutputDirection(image.GetDirection())\n",
    "resampler.SetSize([image.GetSize()[2], image.GetSize()[1], image.GetSize()[0]])  # Change axes for sagittal plane\n",
    "resampler.SetOutputOrigin(image.GetOrigin())\n",
    "resampler.SetOutputSpacing([image.GetSpacing()[2], image.GetSpacing()[1], image.GetSpacing()[0]])\n",
    "filtered_image = resampler.Execute(sitk.Flip(image3D, [False, True, False]))\n",
    "\n",
    "print(image3D.GetDirection())\n",
    "print(filtered_image.GetDirection())\n"
   ]
  }
 ],
 "metadata": {
  "kernelspec": {
   "display_name": "py",
   "language": "python",
   "name": "python3"
  },
  "language_info": {
   "codemirror_mode": {
    "name": "ipython",
    "version": 3
   },
   "file_extension": ".py",
   "mimetype": "text/x-python",
   "name": "python",
   "nbconvert_exporter": "python",
   "pygments_lexer": "ipython3",
   "version": "3.11.6"
  }
 },
 "nbformat": 4,
 "nbformat_minor": 2
}
